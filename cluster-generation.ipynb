{
 "cells": [
  {
   "cell_type": "markdown",
   "metadata": {},
   "source": [
    "# Imports & Properties / IMF creation"
   ]
  },
  {
   "cell_type": "code",
   "execution_count": null,
   "metadata": {},
   "outputs": [],
   "source": [
    "\"\"\"\n",
    "The dowload links on the website do not work\n",
    "Stellar Evolution and Atmosphere Models Dowload Link: https://w.astro.berkeley.edu/~jlu/spisea/ \n",
    "\n",
    "When setting up the spisea folders during the installation process I could not get the paths to PYSYN_CDBS and SPISEA_MODELS\n",
    "set propertly (through editing my .bash_profile), so as a work around I just defined them here\n",
    "\"\"\"\n",
    "\n",
    "import os\n",
    "os.environ[\"PYSYN_CDBS\"] = \"/Users/joesum/cdbs/grp/redcat/trds\"\n",
    "os.environ['SPISEA_MODELS'] = \"/Users/joesum/cdbs/grp/redcat/trds\" \n",
    "\n",
    "\n",
    "# Import other necessary packages. \n",
    "from spisea import synthetic, evolution, atmospheres, reddening, ifmr\n",
    "from spisea.imf import imf, multiplicity\n",
    "import numpy as np\n",
    "import pdb\n",
    "import matplotlib.pyplot as plt\n",
    "from astropy.table import unique\n",
    "import pickle \n",
    "import re"
   ]
  },
  {
   "cell_type": "code",
   "execution_count": null,
   "metadata": {},
   "outputs": [],
   "source": [
    "\"\"\"Setting evolution model and cluster parameters\"\"\"\n",
    "evo_model = evolution.MISTv1()\n",
    "atm_func = atmospheres.get_merged_atmosphere\n",
    "red_law = reddening.RedLawHosek18b()\n",
    "\n",
    "distance = 10                                       # distance to the observed cluster measured in pc\n",
    "extinction = 0                                      # takes extinction in Ks filter in magnitudes\n",
    "metallicity_bins = [5*i/10 for i in range(-5,2)]    # -2.5 and +0.5 are the min and max metalicity values allowed by spisea\n",
    "age_bins = np.log10([10**i for i in range(6,11)])   # 1e6 seems to be the smallest age allowed \n",
    "mass_bins = [10**i for i in range(6)]               # Anything above 10,000 solar masses crashes my kernel \n",
    "\n",
    "# Filters in the format needed by the pysynphot package (some filters - like 2MASS - may need to be downloaded)\n",
    "# Details here: https://pysynphot.readthedocs.io/en/latest/appendixb.html \n",
    "hubble = [\"wfc3,ir,f127m\", \"wfc3,ir,f139m\", \"wfc3,ir,f153m\"]                       # Hubble Filters\n",
    "johnson = [\"johnson,u\", \"johnson,b\", \"johnson,v\", \"johnson,r\", \"johnson,i\", \"johnson,j\", \"johnson,k\"] # Johnson\n",
    "two_mass = [\"2mass,j\", \"2mass,h\", \"2mass,ks\"] #jhk2mass filters\n",
    "sdss = [\"sdss,u\", \"sdss,g\", \"sdss,r\", \"sdss,i\", \"sdss,z\", ] #sdss filters \n",
    "filter_list = johnson + sdss \n",
    "\n",
    "\n",
    "\"\"\"Creating the initial mass fuction\"\"\"\n",
    "mass_limits = np.array([1e-2, 1e2])\n",
    "powers = np.array([-2.35]) # Salpeter function\n",
    "multiplicity = None\n",
    "# The standard IMF function didnt seem to work for me, so the broken powerlaw with only a single power has the same effect.\n",
    "# Not sure what the error was\n",
    "initial_mass_func = imf.IMF_broken_powerlaw(mass_limits, powers, multiplicity)\n",
    "\n",
    "print(metallicity_bins, len(metallicity_bins))\n",
    "print(age_bins, len(age_bins))\n",
    "print(mass_bins, len(mass_bins))"
   ]
  },
  {
   "cell_type": "markdown",
   "metadata": {},
   "source": [
    "# Create isochrone and both clusters for all age / metalicity combinations"
   ]
  },
  {
   "cell_type": "code",
   "execution_count": null,
   "metadata": {},
   "outputs": [],
   "source": [
    "\"\"\"\n",
    "Sometimes you will get an error that IsochronePhot doesnt have a spec_list parameter even though it does...\n",
    "Not sure why... Just resetting the kernel normally fixed it for me though!\n",
    "\n",
    "Also the output everytime an isochrone is generated is quite long; there is probably a way to stop this printing by editing\n",
    "the original code, but I have just been collapsing the output in my notebook \n",
    "\"\"\"\n",
    "\n",
    "    \"\"\"Files saved with sytax:\n",
    "        iso =   isochrone\n",
    "        uc  =   unresolved cluster\n",
    "        rc  =   resolved cluster\n",
    "        a{} =   log(age) of cluster\n",
    "        m{} =   10 * metalicity of cluster\"\"\"\n",
    "\n",
    "# Create isochrones with all combinations of metalicity and age\n",
    "for metallicity in metallicity_bins:\n",
    "    for age in age_bins:\n",
    "        print(\"iso_a{:.0f}_m{:.0f}\".format(age, metallicity*10))\n",
    "        \n",
    "        temp_isochrone = synthetic.IsochronePhot( \n",
    "            age,\n",
    "            extinction,\n",
    "            distance,\n",
    "            metallicity,\n",
    "            filters=filter_list,\n",
    "            evo_model=evo_model,\n",
    "            atm_func=atm_func,\n",
    "            red_law=red_law,\n",
    "        );\n",
    "        \n",
    "        temp_file = open(\"clusters/isochrones/iso_a{:.0f}_m{:.0f}.obj\".format(age, metallicity*10), \"wb\")\n",
    "        pickle.dump(temp_isochrone, temp_file)\n",
    "\n"
   ]
  },
  {
   "cell_type": "code",
   "execution_count": null,
   "metadata": {},
   "outputs": [],
   "source": [
    "# Set mass to be used in IMF (same for all)\n",
    "mass = 10_000\n",
    "seed = None # setting seed to None will cause consitent outputs everytime \n",
    "\n",
    "#for each isochrone create both a resolved and unresolved cluster\n",
    "for file_name in os.listdir(\"clusters/isochrones\"):\n",
    "    nums = [int(i) for i in re.findall('[0-9]+', file_name)]\n",
    "    age, met = nums[0], nums[1]\n",
    "    iso = pickle.load(open(f\"clusters/isochrones/{file_name}\", \"rb\"))\n",
    "    \n",
    "    unresolved = synthetic.UnresolvedCluster(\n",
    "    iso, initial_mass_func, mass, [3000, 52000], verbose=False)\n",
    "    temp_file = open(\"clusters/unresolved/uc_a{:.0f}_m{:.0f}.obj\".format(age, met*10), \"wb\")\n",
    "    pickle.dump(unresolved, temp_file)\n",
    "\n",
    "    resolved = synthetic.ResolvedCluster(\n",
    "    iso, initial_mass_func, mass, seed=seed)\n",
    "    temp_file = open(\"clusters/resolved/rc_a{:.0f}_m{:.0f}.obj\".format(age, met*10), \"wb\")\n",
    "    pickle.dump(resolved, temp_file)\n",
    "  "
   ]
  },
  {
   "cell_type": "markdown",
   "metadata": {},
   "source": [
    "# Generate Unresolved Clusters for age = 1 / Gyr M/H = 0 with varying mass"
   ]
  },
  {
   "cell_type": "code",
   "execution_count": null,
   "metadata": {},
   "outputs": [],
   "source": [
    "# Load isochrone of age=1Gyr and metalicity 0\n",
    "iso = pickle.load(open(\"clusters/isochrones/iso_a9_m0.obj\", \"rb\"))\n",
    "\n",
    "for mass in mass_bins:\n",
    "    temp_unres_clust = synthetic.UnresolvedCluster(\n",
    "        iso, initial_mass_func, mass, [100, 7500], verbose=False)\n",
    "    temp_file = open(\"clusters/mass-dependance/mass{:.0f}.obj\".format(np.log10(mass)),\"wb\")\n",
    "    pickle.dump(temp_unres_clust, temp_file)\n"
   ]
  },
  {
   "cell_type": "markdown",
   "metadata": {},
   "source": [
    "## Plot mass dependance of unresolved cluster output"
   ]
  },
  {
   "cell_type": "code",
   "execution_count": null,
   "metadata": {},
   "outputs": [],
   "source": [
    "for file_name in os.listdir(\"clusters/mass-dependance\"):\n",
    "        unresolved_cluster = pickle.load(open(\"clusters/mass-dependance/{}\".format(file_name), \"rb\"))\n",
    "        plt.plot(unresolved_cluster.wave_trim*10**-4,\n",
    "                unresolved_cluster.spec_trim,#*unresolved_cluster.wave_trim,\n",
    "                label=file_name, linewidth=2)\n",
    "        plt.xlabel('Wavelength ($\\mu$m)', fontsize=24)\n",
    "        plt.ylabel('log(F$_{\\lambda}$)', fontsize=24) #'log($\\lambda$F$_{\\lambda}$)'\n",
    "        plt.tick_params(axis='both', labelsize=20)\n",
    "        plt.legend()\n",
    "        plt.xlim(0.25,5.0)\n",
    "        plt.gca().set_yscale('log')\n",
    "        plt.rcParams[\"figure.figsize\"] = (9,9)\n",
    "\n",
    "plt.show()"
   ]
  },
  {
   "cell_type": "code",
   "execution_count": null,
   "metadata": {},
   "outputs": [],
   "source": []
  }
 ],
 "metadata": {
  "interpreter": {
   "hash": "a5677a2417b5dcb2be75d53f0ec5da8a4530e8b1a8d54c24ca28d6946a362a29"
  },
  "kernelspec": {
   "display_name": "Python 3.9.9 ('base')",
   "language": "python",
   "name": "python3"
  },
  "language_info": {
   "codemirror_mode": {
    "name": "ipython",
    "version": 3
   },
   "file_extension": ".py",
   "mimetype": "text/x-python",
   "name": "python",
   "nbconvert_exporter": "python",
   "pygments_lexer": "ipython3",
   "version": "3.9.7"
  },
  "orig_nbformat": 4
 },
 "nbformat": 4,
 "nbformat_minor": 2
}
