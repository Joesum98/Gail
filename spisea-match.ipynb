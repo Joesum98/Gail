{
 "cells": [
  {
   "cell_type": "code",
   "execution_count": 2,
   "metadata": {},
   "outputs": [
    {
     "name": "stderr",
     "output_type": "stream",
     "text": [
      "/Users/joesum/opt/anaconda3/lib/python3.9/site-packages/pysynphot/locations.py:345: UserWarning: Extinction files not found in /Users/joesum/cdbs/grp/redcat/trds/extinction\n",
      "  warnings.warn('Extinction files not found in %s' % (extdir, ))\n"
     ]
    }
   ],
   "source": [
    "import os\n",
    "os.environ[\"PYSYN_CDBS\"] = \"/Users/joesum/cdbs/grp/redcat/trds\"\n",
    "os.environ['SPISEA_MODELS'] = \"/Users/joesum/cdbs/grp/redcat/trds\" \n",
    "# Import necessary packages. \n",
    "from spisea import synthetic, evolution, atmospheres, reddening, ifmr\n",
    "from spisea.imf import imf, multiplicity\n",
    "import numpy as np\n",
    "import pdb\n",
    "import matplotlib.pyplot as plt\n",
    "from astropy.table import unique\n",
    "import pickle "
   ]
  },
  {
   "cell_type": "markdown",
   "metadata": {},
   "source": [
    "# Making a Base Isochrone Object"
   ]
  },
  {
   "cell_type": "code",
   "execution_count": null,
   "metadata": {},
   "outputs": [],
   "source": [
    "# Parameters of the SSP\n",
    "log_age = np.log10(1e9)\n",
    "distance = 10\n",
    "extinction = 0  # takes extinction in Ks filter in magnitudes\n",
    "metallicity = 0\n",
    "\n",
    "# Evolution, atmosphere, and redshift models\n",
    "evo_model = evolution.MISTv1()\n",
    "atm_func = atmospheres.get_merged_atmosphere\n",
    "red_law = reddening.RedLawHosek18b()\n",
    "\n",
    "# creating isocrones object \n",
    "isochrone = synthetic.Isochrone(\n",
    "    log_age, extinction, distance, metallicity, \n",
    "    evo_model=evo_model, atm_func=atm_func, red_law=red_law\n",
    ")\n",
    "\n",
    "# plot the HR-diagram for your new isochrone\n",
    "isochrone.plot_HR_diagram()\n",
    "\n",
    "isochrone_file = open(\"isochrone.obj\", \"wb\")\n",
    "pickle.dump(isochrone, isochrone_file)\n"
   ]
  },
  {
   "cell_type": "code",
   "execution_count": null,
   "metadata": {},
   "outputs": [],
   "source": [
    "isochrone.plot_mass_luminosity()"
   ]
  },
  {
   "cell_type": "markdown",
   "metadata": {},
   "source": [
    "# Making an Isochrone with Synthetic Photometry"
   ]
  },
  {
   "cell_type": "code",
   "execution_count": 44,
   "metadata": {},
   "outputs": [
    {
     "name": "stdout",
     "output_type": "stream",
     "text": [
      "Isochrone generation took 53.325572 s.\n",
      "Making photometry for isochrone: log(t) = 9.00  AKs = 0.00  dist = 10\n",
      "     Starting at:  2022-03-14 13:41:43.934981   Usually takes ~5 minutes\n",
      "Starting filter: wfc3,ir,f127m   Elapsed time: 0.00 seconds\n",
      "Starting synthetic photometry\n",
      "M =   0.105 Msun  T =  3064 K  m_hst_f127m = 9.99\n",
      "M =   0.861 Msun  T =  5544 K  m_hst_f127m = 4.25\n",
      "M =   1.919 Msun  T =  7551 K  m_hst_f127m = 0.59\n",
      "M =   1.941 Msun  T =  5412 K  m_hst_f127m = 0.15\n",
      "M =   1.963 Msun  T =  4406 K  m_hst_f127m = -2.74\n",
      "M =   2.154 Msun  T =  4909 K  m_hst_f127m = -1.50\n",
      "M =   2.166 Msun  T =  4099 K  m_hst_f127m = -4.01\n",
      "M =   2.167 Msun  T =  3636 K  m_hst_f127m = -5.28\n",
      "M =   2.167 Msun  T =  3602 K  m_hst_f127m = -5.37\n",
      "M =   2.167 Msun  T =  3355 K  m_hst_f127m = -6.00\n",
      "M =   2.168 Msun  T =  3412 K  m_hst_f127m = -5.78\n",
      "M =   2.168 Msun  T =  6368 K  m_hst_f127m = -5.70\n",
      "M =   2.168 Msun  T = 64482 K  m_hst_f127m = 0.92\n",
      "M =   2.168 Msun  T = 75051 K  m_hst_f127m = 8.31\n",
      "Starting filter: wfc3,ir,f139m   Elapsed time: 20.67 seconds\n",
      "Starting synthetic photometry\n",
      "M =   0.105 Msun  T =  3064 K  m_hst_f139m = 9.91\n",
      "M =   0.861 Msun  T =  5544 K  m_hst_f139m = 4.14\n",
      "M =   1.919 Msun  T =  7551 K  m_hst_f139m = 0.56\n",
      "M =   1.941 Msun  T =  5412 K  m_hst_f139m = 0.03\n",
      "M =   1.963 Msun  T =  4406 K  m_hst_f139m = -2.93\n",
      "M =   2.154 Msun  T =  4909 K  m_hst_f139m = -1.65\n",
      "M =   2.166 Msun  T =  4099 K  m_hst_f139m = -4.23\n",
      "M =   2.167 Msun  T =  3636 K  m_hst_f139m = -5.54\n",
      "M =   2.167 Msun  T =  3602 K  m_hst_f139m = -5.63\n",
      "M =   2.167 Msun  T =  3355 K  m_hst_f139m = -6.27\n",
      "M =   2.168 Msun  T =  3412 K  m_hst_f139m = -6.05\n",
      "M =   2.168 Msun  T =  6368 K  m_hst_f139m = -5.73\n",
      "M =   2.168 Msun  T = 64482 K  m_hst_f139m = 0.97\n",
      "M =   2.168 Msun  T = 75051 K  m_hst_f139m = 8.37\n",
      "Starting filter: wfc3,ir,f153m   Elapsed time: 41.61 seconds\n",
      "Starting synthetic photometry\n",
      "M =   0.105 Msun  T =  3064 K  m_hst_f153m = 9.63\n",
      "M =   0.861 Msun  T =  5544 K  m_hst_f153m = 3.97\n",
      "M =   1.919 Msun  T =  7551 K  m_hst_f153m = 0.51\n",
      "M =   1.941 Msun  T =  5412 K  m_hst_f153m = -0.14\n",
      "M =   1.963 Msun  T =  4406 K  m_hst_f153m = -3.21\n",
      "M =   2.154 Msun  T =  4909 K  m_hst_f153m = -1.88\n",
      "M =   2.166 Msun  T =  4099 K  m_hst_f153m = -4.55\n",
      "M =   2.167 Msun  T =  3636 K  m_hst_f153m = -5.94\n",
      "M =   2.167 Msun  T =  3602 K  m_hst_f153m = -6.04\n",
      "M =   2.167 Msun  T =  3355 K  m_hst_f153m = -6.71\n",
      "M =   2.168 Msun  T =  3412 K  m_hst_f153m = -6.48\n",
      "M =   2.168 Msun  T =  6368 K  m_hst_f153m = -5.81\n",
      "M =   2.168 Msun  T = 64482 K  m_hst_f153m = 0.99\n",
      "M =   2.168 Msun  T = 75051 K  m_hst_f153m = 8.39\n",
      "      Time taken: 63.92 seconds\n",
      "['__class__', '__delattr__', '__dict__', '__dir__', '__doc__', '__eq__', '__format__', '__ge__', '__getattribute__', '__gt__', '__hash__', '__init__', '__init_subclass__', '__le__', '__lt__', '__module__', '__ne__', '__new__', '__reduce__', '__reduce_ex__', '__repr__', '__setattr__', '__sizeof__', '__slotnames__', '__str__', '__subclasshook__', '__weakref__', 'check_save_file', 'filters', 'make_photometry', 'metallicity', 'plot_CMD', 'plot_HR_diagram', 'plot_mass_luminosity', 'plot_mass_magnitude', 'points', 'recalc', 'save_file', 'save_file_legacy', 'spec_list', 'verbose']\n"
     ]
    }
   ],
   "source": [
    "# Parameters of the SSP\n",
    "log_age = np.log10(1e9)\n",
    "distance = 10\n",
    "extinction = 0  # takes extinction in Ks filter in magnitudes\n",
    "metallicity = -0.3\n",
    "\n",
    "# Evolution, atmosphere, and redshift models\n",
    "evo_model = evolution.MISTv1()\n",
    "atm_func = atmospheres.get_merged_atmosphere\n",
    "red_law = reddening.RedLawHosek18b()\n",
    "\n",
    "# Setting filter list that will be used to create the photometry\n",
    "# filters = [\"ubv,U\", \"ubv,B\", \"ubv,V\", \"ubv,R\", \"ubv,I\"] # Johnson-Cousins\n",
    "# filters = ['decam,u', 'decam,g', 'decam,r', 'decam,i', 'decam,z', 'decam,Y'] # Dark Energy Cam\n",
    "filters = [\"wfc3,ir,f127m\", \"wfc3,ir,f139m\", \"wfc3,ir,f153m\"] # Hubble Filters\n",
    "\n",
    "# creating isocrones object \n",
    "isochronePhot = synthetic.IsochronePhot(\n",
    "    log_age, extinction, distance, metallicity, \n",
    "    evo_model=evo_model, atm_func=atm_func, red_law=red_law,\n",
    "    filters=filters\n",
    ")\n",
    "\n",
    "isochronePhot_file = open(\"isochronePhot.obj\", \"wb\")\n",
    "pickle.dump(isochronePhot, isochronePhot_file)\n"
   ]
  },
  {
   "cell_type": "code",
   "execution_count": 38,
   "metadata": {},
   "outputs": [
    {
     "name": "stdout",
     "output_type": "stream",
     "text": [
      "['L', 'Teff', 'R', 'mass', 'logg', 'isWR', 'mass_current', 'phase', 'm_hst_f127m', 'm_hst_f139m', 'm_hst_f153m']\n"
     ]
    }
   ],
   "source": [
    "\"\"\"\n",
    "Phase codes: \n",
    "101 = White Dwarf\n",
    "102 = Neutron Star\n",
    "103 = Black Hole\n",
    "0 = Main Sequence Star???\n",
    "1 = \n",
    "2 =\n",
    "3 = \n",
    "4 = \n",
    "5 = \n",
    "\"\"\"\n",
    "print(isochronePhot.points.keys())\n"
   ]
  },
  {
   "cell_type": "code",
   "execution_count": null,
   "metadata": {},
   "outputs": [],
   "source": [
    "unique(isochronePhot.points, keys=[\"phase\"])"
   ]
  },
  {
   "cell_type": "markdown",
   "metadata": {},
   "source": [
    "# Initial Mass Function"
   ]
  },
  {
   "cell_type": "code",
   "execution_count": 43,
   "metadata": {},
   "outputs": [],
   "source": [
    "# Boundaries for each mass segment\n",
    "mass_limits = np.array([0.2, 0.5, 1, 120])\n",
    "# Power law slope associated with each mass segment\n",
    "powers = np.array([-1.3, -2.3, -2.3])\n",
    "# \n",
    "multiplicity = None\n",
    "# initial_mass_func = imf.IMF(mass_limits, multiplicity)\n",
    "initial_mass_func = imf.IMF_broken_powerlaw(mass_limits, powers, multiplicity)\n",
    "\n",
    "pickle.dump(initial_mass_func, open(\"initial_mass_func.obj\", \"wb\"))"
   ]
  },
  {
   "cell_type": "markdown",
   "metadata": {},
   "source": [
    "# Resolved Cluster"
   ]
  },
  {
   "cell_type": "code",
   "execution_count": 4,
   "metadata": {},
   "outputs": [
    {
     "name": "stdout",
     "output_type": "stream",
     "text": [
      "Found 29 stars out of mass range\n",
      "['mass', 'isMultiple', 'systemMass', 'Teff', 'L', 'logg', 'isWR', 'mass_current', 'phase', 'm_hst_f127m', 'm_hst_f139m', 'm_hst_f153m']\n"
     ]
    }
   ],
   "source": [
    "iso = pickle.load(open(\"isochronePhot.obj\", \"rb\"))\n",
    "imf = pickle.load(open(\"initial_mass_func.obj\", \"rb\"))\n",
    "\n",
    "total_mass = 500\n",
    "seed = None\n",
    "\n",
    "cluster = synthetic.ResolvedCluster(iso, imf, total_mass)\n",
    "\n",
    "pickle.dump(cluster, open(\"cluster.obj\", \"wb\"))\n",
    "\n",
    "print(cluster.star_systems.keys())"
   ]
  },
  {
   "cell_type": "code",
   "execution_count": 34,
   "metadata": {},
   "outputs": [
    {
     "data": {
      "image/png": "[encoded data removed]",
      "text/plain": [
       "<Figure size 720x720 with 1 Axes>"
      ]
     },
     "metadata": {
      "needs_background": "light"
     },
     "output_type": "display_data"
    }
   ],
   "source": [
    "plt.plot(\n",
    "    cluster.star_systems[\"m_hst_f127m\"] - cluster.star_systems[\"m_hst_f153m\"],\n",
    "    cluster.star_systems[\"m_hst_f153m\"],\n",
    "    \"k.\",\n",
    "    ms=1,\n",
    "    alpha=0.05)\n",
    "# plt.plot(\n",
    "#     iso.points[\"m_hst_f127m\"] - iso.points[\"m_hst_f153m\"], iso.points[\"m_hst_f153m\"],\n",
    "#      \"r-\", label=\"Isochrone\"\n",
    "# )\n",
    "plt.xlabel(\"F127M - F153M\")\n",
    "plt.ylabel(\"F153M\")\n",
    "plt.gca().invert_yaxis()\n",
    "plt.rcParams[\"figure.figsize\"] = (9,9)\n",
    "plt.show()"
   ]
  },
  {
   "cell_type": "code",
   "execution_count": 41,
   "metadata": {},
   "outputs": [
    {
     "name": "stdout",
     "output_type": "stream",
     "text": [
      "['mass', 'isMultiple', 'systemMass', 'Teff', 'L', 'logg', 'isWR', 'mass_current', 'phase', 'm_hst_f127m', 'm_hst_f139m', 'm_hst_f153m']\n",
      "        mass        isMultiple ...    m_hst_f139m        m_hst_f153m    \n",
      "------------------- ---------- ... ------------------ ------------------\n",
      " 0.3179077656834814      False ...  7.443481629201654   7.18934023469427\n",
      "  0.472293114073089      False ...  6.456021460093899  6.186502463154656\n",
      " 0.7632824939730062      False ...   4.48187612949721 4.2599852213312825\n",
      " 0.2511636711402923      False ...  7.969564133418451 7.7163821691834125\n",
      "  0.344360689532387      False ...   7.27634398709233  7.021705119266363\n",
      "0.22672794496385695      False ...  8.196162782618208  7.942955751766503\n",
      "0.21746674949245953      False ...     8.286772113306  8.033444732400602\n",
      "0.39704562363095053      False ...  6.938183105687466  6.677837152582589\n",
      " 0.9887353869870463      False ... 2.6494586702836522  2.496724907030223\n",
      " 0.4185706735527094      False ... 6.8020306472669105  6.539268467988667\n",
      "                ...        ... ...                ...                ...\n",
      " 0.4224833526566642      False ...  6.777135950245025  6.513915270698442\n",
      " 0.3868312465920883      False ...  7.002562102445644 6.7433292781835625\n",
      "0.42677841894873986      False ...  6.749808287743375  6.486084298573096\n",
      "0.20035918143691886      False ...  8.467771538531059  8.214133305671766\n",
      " 0.4177130656549846      False ...  6.807487238060634  6.544825556022463\n",
      "  0.409217831605438      False ...  6.861296689614561  6.599597214434791\n",
      " 0.6212248909835572      False ...  5.406483933909341  5.111581045567192\n",
      " 0.8827401995786476      False ... 3.6653461949019537  3.497011127288277\n",
      " 0.3166527294545415      False ...  7.451836046033856  7.197714149925924\n",
      " 0.5164772831564766      False ...  6.160568895584301  5.884005278643044\n",
      " 0.6185504594124728      False ...  5.426023994550137  5.131103017455113\n",
      "Length = 90309 rows\n"
     ]
    }
   ],
   "source": [
    "print(cluster.star_systems.keys())\n",
    "print(cluster.star_systems)"
   ]
  },
  {
   "cell_type": "markdown",
   "metadata": {},
   "source": [
    "# Unresolved Cluster"
   ]
  },
  {
   "cell_type": "code",
   "execution_count": 3,
   "metadata": {},
   "outputs": [
    {
     "name": "stdout",
     "output_type": "stream",
     "text": [
      "Mass matching took 0.801386 s.\n",
      "Spec summing took 0.005518s\n",
      "Spec trimming took 0.000624s\n",
      "Total cluster mass is 566.272329 M_sun\n"
     ]
    }
   ],
   "source": [
    "iso = pickle.load(open(\"isochronePhot.obj\", \"rb\"))\n",
    "imf = pickle.load(open(\"initial_mass_func.obj\", \"rb\"))\n",
    "\n",
    "total_mass = 1e3\n",
    "seed = None\n",
    "\n",
    "unresolved_cluster = synthetic.UnresolvedCluster(iso, imf, total_mass, [3000,52000], verbose=False)\n",
    "\n",
    "pickle.dump(unresolved_cluster, open(\"cluster.obj\", \"wb\"))"
   ]
  },
  {
   "cell_type": "code",
   "execution_count": 40,
   "metadata": {},
   "outputs": [
    {
     "data": {
      "text/plain": [
       "['__class__',\n",
       " '__delattr__',\n",
       " '__dict__',\n",
       " '__dir__',\n",
       " '__doc__',\n",
       " '__eq__',\n",
       " '__format__',\n",
       " '__ge__',\n",
       " '__getattribute__',\n",
       " '__gt__',\n",
       " '__hash__',\n",
       " '__init__',\n",
       " '__init_subclass__',\n",
       " '__le__',\n",
       " '__lt__',\n",
       " '__module__',\n",
       " '__ne__',\n",
       " '__new__',\n",
       " '__reduce__',\n",
       " '__reduce_ex__',\n",
       " '__repr__',\n",
       " '__setattr__',\n",
       " '__sizeof__',\n",
       " '__slotnames__',\n",
       " '__str__',\n",
       " '__subclasshook__',\n",
       " '__weakref__',\n",
       " 'check_save_file',\n",
       " 'filters',\n",
       " 'make_photometry',\n",
       " 'plot_CMD',\n",
       " 'plot_HR_diagram',\n",
       " 'plot_mass_luminosity',\n",
       " 'plot_mass_magnitude',\n",
       " 'points',\n",
       " 'recalc',\n",
       " 'save_file',\n",
       " 'save_file_legacy',\n",
       " 'spec_list',\n",
       " 'verbose']"
      ]
     },
     "execution_count": 40,
     "metadata": {},
     "output_type": "execute_result"
    }
   ],
   "source": [
    "dir(iso)"
   ]
  },
  {
   "cell_type": "code",
   "execution_count": 37,
   "metadata": {},
   "outputs": [
    {
     "data": {
      "text/plain": [
       "['__class__',\n",
       " '__delattr__',\n",
       " '__dict__',\n",
       " '__dir__',\n",
       " '__doc__',\n",
       " '__eq__',\n",
       " '__format__',\n",
       " '__ge__',\n",
       " '__getattribute__',\n",
       " '__gt__',\n",
       " '__hash__',\n",
       " '__init__',\n",
       " '__init_subclass__',\n",
       " '__le__',\n",
       " '__lt__',\n",
       " '__module__',\n",
       " '__ne__',\n",
       " '__new__',\n",
       " '__reduce__',\n",
       " '__reduce_ex__',\n",
       " '__repr__',\n",
       " '__setattr__',\n",
       " '__sizeof__',\n",
       " '__slotnames__',\n",
       " '__str__',\n",
       " '__subclasshook__',\n",
       " '__weakref__',\n",
       " 'cluster_mass',\n",
       " 'ifmr',\n",
       " 'imf',\n",
       " 'iso',\n",
       " 'mass',\n",
       " 'mass_all',\n",
       " 'mass_tot',\n",
       " 'seed',\n",
       " 'spec_list',\n",
       " 'spec_list_trim',\n",
       " 'spec_tot_full',\n",
       " 'spec_trim',\n",
       " 'verbose',\n",
       " 'wave_trim']"
      ]
     },
     "execution_count": 37,
     "metadata": {},
     "output_type": "execute_result"
    }
   ],
   "source": [
    "dir(unresolved_cluster)"
   ]
  },
  {
   "cell_type": "code",
   "execution_count": 6,
   "metadata": {},
   "outputs": [
    {
     "data": {
      "image/png": "[encoded data removed]",
      "text/plain": [
       "<Figure size 648x648 with 1 Axes>"
      ]
     },
     "metadata": {
      "needs_background": "light"
     },
     "output_type": "display_data"
    }
   ],
   "source": [
    "unresolved_cluster = pickle.load(open(\"cluster.obj\", \"rb\"))\n",
    "plt.rcParams[\"figure.figsize\"] = (9,9)\n",
    "plt.plot(unresolved_cluster.wave_trim*10**-4,\n",
    "        unresolved_cluster.wave_trim*unresolved_cluster.spec_trim,\n",
    "        'r-', label='10 Myr', linewidth=2)\n",
    "plt.xlabel('Wavelength ($\\mu$m)', fontsize=24)\n",
    "plt.ylabel('log($\\lambda$F$_{\\lambda}$)', fontsize=24)\n",
    "plt.tick_params(axis='both', labelsize=20)\n",
    "plt.legend()\n",
    "plt.xlim(0.2,5.3)\n",
    "plt.gca().set_yscale('log')\n",
    "plt.show()"
   ]
  },
  {
   "cell_type": "code",
   "execution_count": 7,
   "metadata": {},
   "outputs": [
    {
     "name": "stdout",
     "output_type": "stream",
     "text": [
      "579\n",
      "Flux\n",
      "[6.76676737e-16 8.72363196e-16 1.03743051e-15 2.10978815e-15\n",
      " 1.38384536e-15 3.11099683e-15 4.45349008e-15 5.82409016e-15\n",
      " 6.39832436e-15 4.56296348e-15]\n",
      "Wave\n",
      "[3010. 3030. 3050. 3070. 3090. 3110. 3130. 3150. 3170. 3190.]\n",
      "\n",
      "\n",
      "579\n",
      "Flux\n",
      "[6.76676737e-16 8.72363196e-16 1.03743051e-15 2.10978815e-15\n",
      " 1.38384536e-15 3.11099683e-15 4.45349008e-15 5.82409016e-15\n",
      " 6.39832436e-15 4.56296348e-15]\n",
      "Wave\n",
      "[3010. 3030. 3050. 3070. 3090. 3110. 3130. 3150. 3170. 3190.]\n"
     ]
    }
   ],
   "source": [
    "# spec_list = pysynphot object with wavelength list and corresponding flux values\n",
    "# spec_list_trim = TabluarSourceSpectrum object/ spec_list = ArraySourceSpectrum object\n",
    "\n",
    "print(len(unresolved_cluster.spec_list))\n",
    "print(\"Flux\")\n",
    "print(unresolved_cluster.spec_list[0].flux[0:10])\n",
    "print(\"Wave\")\n",
    "print(unresolved_cluster.spec_list[0].wave[0:10])\n",
    "print()\n",
    "print()\n",
    "print(len(unresolved_cluster.spec_list_trim))\n",
    "print(\"Flux\")\n",
    "print(unresolved_cluster.spec_list_trim[0].flux[0:10])\n",
    "print(\"Wave\")\n",
    "print(unresolved_cluster.spec_list_trim[0].wave[0:10])\n",
    "print()\n",
    "print()\n",
    "print(len(unresolved_cluster.spec_trim))\n",
    "print(\"Flux\")\n",
    "print(unresolved_cluster.spec_list_trim[0].flux[0:10])\n",
    "print(\"Wave\")\n",
    "print(unresolved_cluster.spec_list_trim[0].wave[0:10])"
   ]
  },
  {
   "cell_type": "code",
   "execution_count": 5,
   "metadata": {},
   "outputs": [
    {
     "name": "stdout",
     "output_type": "stream",
     "text": [
      "Mass matching took 4.186158 s.\n",
      "Spec summing took 0.027387s\n",
      "Spec trimming took 0.002041s\n",
      "Total cluster mass is 3063.696556 M_sun\n"
     ]
    }
   ],
   "source": [
    "iso = pickle.load(open(\"isochronePhot.obj\", \"rb\"))\n",
    "imf = pickle.load(open(\"initial_mass_func.obj\", \"rb\"))\n",
    "\n",
    "total_mass = 5e3\n",
    "seed = None\n",
    "\n",
    "unresolved_cluster = synthetic.UnresolvedCluster(iso, imf, total_mass, [3000,52000], verbose=False)\n",
    "\n",
    "pickle.dump(unresolved_cluster, open(\"cluster.obj\", \"wb\"))\n"
   ]
  },
  {
   "cell_type": "code",
   "execution_count": 8,
   "metadata": {},
   "outputs": [
    {
     "data": {
      "image/png": "[encoded data removed]",
      "text/plain": [
       "<Figure size 648x648 with 1 Axes>"
      ]
     },
     "metadata": {
      "needs_background": "light"
     },
     "output_type": "display_data"
    }
   ],
   "source": [
    "plt.plot(unresolved_cluster.wave_trim*10**-4,\n",
    "        unresolved_cluster.wave_trim*unresolved_cluster.spec_trim,\n",
    "        'r-', label='10 Myr', linewidth=2)\n",
    "plt.xlabel('Wavelength ($\\mu$m)', fontsize=24)\n",
    "plt.ylabel('log($\\lambda$F$_{\\lambda}$)', fontsize=24)\n",
    "plt.tick_params(axis='both', labelsize=20)\n",
    "plt.legend()\n",
    "plt.xlim(0.25,5.0)\n",
    "plt.gca().set_yscale('log')\n",
    "plt.rcParams[\"figure.figsize\"] = (9,9)"
   ]
  },
  {
   "cell_type": "code",
   "execution_count": null,
   "metadata": {},
   "outputs": [],
   "source": [
    "Mg_H_bins = []\n",
    "Fe_H_bins = []\n",
    "Age_bins = []"
   ]
  },
  {
   "cell_type": "code",
   "execution_count": null,
   "metadata": {},
   "outputs": [],
   "source": []
  }
 ],
 "metadata": {
  "interpreter": {
   "hash": "a5677a2417b5dcb2be75d53f0ec5da8a4530e8b1a8d54c24ca28d6946a362a29"
  },
  "kernelspec": {
   "display_name": "Python 3.9.9 64-bit ('base': conda)",
   "language": "python",
   "name": "python3"
  },
  "language_info": {
   "codemirror_mode": {
    "name": "ipython",
    "version": 3
   },
   "file_extension": ".py",
   "mimetype": "text/x-python",
   "name": "python",
   "nbconvert_exporter": "python",
   "pygments_lexer": "ipython3",
   "version": "3.9.9"
  },
  "orig_nbformat": 4
 },
 "nbformat": 4,
 "nbformat_minor": 2
}
